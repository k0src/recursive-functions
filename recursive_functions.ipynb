{
 "cells": [
  {
   "cell_type": "markdown",
   "id": "780886bc-19e1-4c74-b203-6ae45d937567",
   "metadata": {},
   "source": [
    "## Recursive Functions"
   ]
  },
  {
   "cell_type": "markdown",
   "id": "547b86e6-c847-4348-b827-04c2de10f805",
   "metadata": {},
   "source": [
    "- **Recursive Functions**\n",
    "    - Call themsleves during exceution\n",
    "    - Breaks down problem into smaller instances of itself, until a base case is reached.\n",
    "- **Base case**\n",
    "    - Is the termination condition of the function.\n",
    "    - Without a base case, the function would continue to call itself, leading to an erorr.\n",
    "- **How to write**\n",
    "    - Determine the smallest input for whihc the solution is known (like 1 or 0).\n",
    "    - Find and generalize patterns of different inputs (5 = 4 + 3 + 2 + 1)"
   ]
  },
  {
   "cell_type": "markdown",
   "id": "918ec3eb-987a-45e2-9668-c4a3e07e798c",
   "metadata": {},
   "source": [
    "### Factorial"
   ]
  },
  {
   "cell_type": "markdown",
   "id": "c21a354a-b48e-44cc-bd05-79e71697ffb1",
   "metadata": {},
   "source": [
    "Get the factorial of a number $n$ recursively.\n",
    "- **Base case** - if n = 1, return 1.\n",
    "- **Recursive case** - Multiply n with n - 1."
   ]
  },
  {
   "cell_type": "code",
   "execution_count": 3,
   "id": "d2882427-496b-40f6-92d4-7c6bcec6a6c0",
   "metadata": {},
   "outputs": [],
   "source": [
    "def factorial(n):\n",
    "    if n == 1:\n",
    "        return 1 # Base Case\n",
    "    else:\n",
    "        return n * factorial(n - 1) # Recursive case"
   ]
  },
  {
   "cell_type": "code",
   "execution_count": 6,
   "id": "a5ae8369-2dae-4b64-bb4c-402bf1149a59",
   "metadata": {},
   "outputs": [
    {
     "data": {
      "text/plain": [
       "120"
      ]
     },
     "execution_count": 6,
     "metadata": {},
     "output_type": "execute_result"
    }
   ],
   "source": [
    "factorial(5)"
   ]
  },
  {
   "cell_type": "code",
   "execution_count": 7,
   "id": "9f2a492d-264f-45e8-83b1-8825545b9d10",
   "metadata": {},
   "outputs": [
    {
     "data": {
      "text/plain": [
       "720"
      ]
     },
     "execution_count": 7,
     "metadata": {},
     "output_type": "execute_result"
    }
   ],
   "source": [
    "factorial(6)"
   ]
  },
  {
   "cell_type": "markdown",
   "id": "fe1b08f6-eb6f-448b-a473-a1af8c986182",
   "metadata": {},
   "source": [
    "### Sum of Digits"
   ]
  },
  {
   "cell_type": "markdown",
   "id": "d1fa8748-30e7-4f66-91b0-9fdc586a393e",
   "metadata": {},
   "source": [
    "Get the sum of digits $n$ using a recurisve function. \n",
    "- **Base case** - if n = 1, return 1.\n",
    "- **Recursive case** - Add n to n - 1."
   ]
  },
  {
   "cell_type": "code",
   "execution_count": 8,
   "id": "530bac89-29c4-4975-990d-7d2ffbe9d45d",
   "metadata": {},
   "outputs": [],
   "source": [
    "def sum_digits(n):\n",
    "    if n == 1:\n",
    "        return 1\n",
    "    else:\n",
    "        return n + sum_digits(n - 1)"
   ]
  },
  {
   "cell_type": "code",
   "execution_count": 9,
   "id": "8b341d96-56bf-4835-8f81-9c532f855e36",
   "metadata": {},
   "outputs": [
    {
     "data": {
      "text/plain": [
       "15"
      ]
     },
     "execution_count": 9,
     "metadata": {},
     "output_type": "execute_result"
    }
   ],
   "source": [
    "sum_digits(5)"
   ]
  },
  {
   "cell_type": "code",
   "execution_count": 10,
   "id": "afcf6e1c-96fa-44e9-8034-33103012ef83",
   "metadata": {},
   "outputs": [
    {
     "data": {
      "text/plain": [
       "31375"
      ]
     },
     "execution_count": 10,
     "metadata": {},
     "output_type": "execute_result"
    }
   ],
   "source": [
    "sum_digits(250)"
   ]
  },
  {
   "cell_type": "markdown",
   "id": "b660a547-4c97-4b98-9601-f4fe8ab483c8",
   "metadata": {},
   "source": [
    "### Fibonacci"
   ]
  },
  {
   "cell_type": "markdown",
   "id": "23d380e7-ea80-4b28-816c-5a7e44caf341",
   "metadata": {},
   "source": [
    "Find the $n$th number of the **Fibonacci sequence** using a recursive function.\n",
    "Each number in the Fibonacci seqeunce is the sum of the last two numbers.\n",
    "- **First condition** checks if n is 0. If it is, return 1 (only 0 + 0 = 0).\n",
    "- **Next condition** checks if n is 1 or 2. If it is, return 1, because the first two numbers in the sequence are 1.\n",
    "- **Recursive case** - adds the numbers at position n - 1 and n - 2."
   ]
  },
  {
   "cell_type": "code",
   "execution_count": 22,
   "id": "df261a46-a35a-4ab1-b873-987aa2a58cf9",
   "metadata": {},
   "outputs": [],
   "source": [
    "def fibonacci(n):\n",
    "    if n == 0:\n",
    "        return 0\n",
    "    elif n == 1 or n == 2:\n",
    "        return 1\n",
    "    else:\n",
    "        return fibonacci(n - 1) + fibonacci(n - 2)"
   ]
  },
  {
   "cell_type": "code",
   "execution_count": 23,
   "id": "54e12a09-f16f-48b5-87df-c777a99ba127",
   "metadata": {},
   "outputs": [
    {
     "data": {
      "text/plain": [
       "5"
      ]
     },
     "execution_count": 23,
     "metadata": {},
     "output_type": "execute_result"
    }
   ],
   "source": [
    "fibonacci(5)"
   ]
  },
  {
   "cell_type": "code",
   "execution_count": 24,
   "id": "957eba67-f2ce-4772-96f8-61bbfd3187f6",
   "metadata": {},
   "outputs": [
    {
     "data": {
      "text/plain": [
       "55"
      ]
     },
     "execution_count": 24,
     "metadata": {},
     "output_type": "execute_result"
    }
   ],
   "source": [
    "fibonacci(10)"
   ]
  },
  {
   "cell_type": "raw",
   "id": "6e2b0c61-8ccc-4f46-84e3-f535ccd8735d",
   "metadata": {},
   "source": [
    "fibonacci(5)\n",
    "       |\n",
    "    fibonacci(4) + fibonacci(3)\n",
    "        /            \\\n",
    "fibonacci(3) + fibonacci(2)  fibonacci(2) + fibonacci(1)\n",
    "  /      \\            |\n",
    "fib(2)+fib(1) + fib(1)+fib(0)  + fib(1) + fib(0)\n"
   ]
  },
  {
   "cell_type": "markdown",
   "id": "2839f47e-ac63-4f70-b18f-0623481410c0",
   "metadata": {},
   "source": [
    "### Power"
   ]
  },
  {
   "cell_type": "markdown",
   "id": "b0ea8f75-bed6-4012-b0f3-b0f0884dbb40",
   "metadata": {},
   "source": [
    "Calcuate the result of some base to some exponent.\n",
    "- **Base case** - exponent = 0, then return 1.\n",
    "- **Recursive case** - return base * base and subtract 1 from ex, until ex equals zero."
   ]
  },
  {
   "cell_type": "code",
   "execution_count": 33,
   "id": "499142e1-f1da-4930-9ae5-fe2b6ae7fba2",
   "metadata": {},
   "outputs": [],
   "source": [
    "def power(base, ex):\n",
    "    if ex == 0:\n",
    "        return 1\n",
    "    else:\n",
    "        return base * power(base, ex - 1)"
   ]
  },
  {
   "cell_type": "code",
   "execution_count": 34,
   "id": "5fa54bdf-b83a-461d-9f03-5e9779860b3f",
   "metadata": {},
   "outputs": [
    {
     "data": {
      "text/plain": [
       "32"
      ]
     },
     "execution_count": 34,
     "metadata": {},
     "output_type": "execute_result"
    }
   ],
   "source": [
    "power(2, 5)"
   ]
  },
  {
   "cell_type": "code",
   "execution_count": 35,
   "id": "7db74caa-f7ac-4431-874c-7ccda58fc4a8",
   "metadata": {},
   "outputs": [
    {
     "data": {
      "text/plain": [
       "60466176"
      ]
     },
     "execution_count": 35,
     "metadata": {},
     "output_type": "execute_result"
    }
   ],
   "source": [
    "power(6, 10)"
   ]
  },
  {
   "cell_type": "markdown",
   "id": "f2c91139-3d77-4f1d-8ff6-050023f6364f",
   "metadata": {},
   "source": [
    "### Greatest Common Divisor"
   ]
  },
  {
   "cell_type": "markdown",
   "id": "ea32ec40-3573-45b9-a956-4593ed18cca2",
   "metadata": {},
   "source": [
    "Find the greatest common divisor of two even numbers using recursion.\n",
    "- **Base case** - n2 = 0, can't mod by 0, so return n1.\n",
    "- **Recursive Case** - call `gcd()` with n2 as the first argument, and the remainder of n1/n2. And if that's 0, return n1. Based on [Euclid's algorithim.](https://www.calculatorsoup.com/calculators/math/gcf.php#euclid)"
   ]
  },
  {
   "cell_type": "code",
   "execution_count": 36,
   "id": "058d5101-7530-46cc-b053-186d94285c93",
   "metadata": {},
   "outputs": [],
   "source": [
    "def gcd(n1, n2):\n",
    "    if n2 == 0:\n",
    "        return n1\n",
    "    else:\n",
    "        return gcd(n2, n1 % n2)"
   ]
  },
  {
   "cell_type": "code",
   "execution_count": 37,
   "id": "25391538-8586-49fe-868c-d6b0adb4000a",
   "metadata": {},
   "outputs": [
    {
     "data": {
      "text/plain": [
       "2"
      ]
     },
     "execution_count": 37,
     "metadata": {},
     "output_type": "execute_result"
    }
   ],
   "source": [
    "gcd(10, 24)"
   ]
  },
  {
   "cell_type": "code",
   "execution_count": 38,
   "id": "76f7955e-5dcc-4e78-b646-e4a01bdbbaea",
   "metadata": {},
   "outputs": [
    {
     "data": {
      "text/plain": [
       "6"
      ]
     },
     "execution_count": 38,
     "metadata": {},
     "output_type": "execute_result"
    }
   ],
   "source": [
    "gcd(48, 6)"
   ]
  },
  {
   "cell_type": "markdown",
   "id": "0be12785-419e-457b-a255-46e05adadffd",
   "metadata": {},
   "source": [
    "### Check Palindrome"
   ]
  },
  {
   "cell_type": "markdown",
   "id": "713ebf1b-c639-4773-848d-107076ec9e2d",
   "metadata": {},
   "source": [
    "Find if a string is a palindrome using recursion.\n",
    "- **Base case** - two base cases, when the string is *one character or zero* because those will always be palindromes - return `True`.\n",
    "- **Recursive case** - check if the first and last letters of the string are the same, if not, return `False`.\n",
    "- If they are the same, call the palindrome function with the word as the argument, minus the *first and last characters*."
   ]
  },
  {
   "cell_type": "code",
   "execution_count": 1,
   "id": "65b0693d-efb7-4f9c-aab9-2eddb396b40d",
   "metadata": {},
   "outputs": [],
   "source": [
    "def palindrome(word):\n",
    "    if len(word) <= 1:\n",
    "        return True\n",
    "    else:\n",
    "        if word[0] == word[-1]:\n",
    "            return palindrome(word[1:-1])\n",
    "        else:\n",
    "            return False"
   ]
  },
  {
   "cell_type": "code",
   "execution_count": 2,
   "id": "d7065116-27a1-4b7a-b096-e856d7c8e066",
   "metadata": {},
   "outputs": [
    {
     "data": {
      "text/plain": [
       "True"
      ]
     },
     "execution_count": 2,
     "metadata": {},
     "output_type": "execute_result"
    }
   ],
   "source": [
    "palindrome('racecar')"
   ]
  },
  {
   "cell_type": "code",
   "execution_count": 3,
   "id": "4e0f4897-dc8a-484d-9668-910a73d22c09",
   "metadata": {},
   "outputs": [
    {
     "data": {
      "text/plain": [
       "True"
      ]
     },
     "execution_count": 3,
     "metadata": {},
     "output_type": "execute_result"
    }
   ],
   "source": [
    "palindrome('a')"
   ]
  },
  {
   "cell_type": "code",
   "execution_count": 4,
   "id": "9a2185fe-4efb-46c9-97a3-ad13732135eb",
   "metadata": {},
   "outputs": [
    {
     "data": {
      "text/plain": [
       "False"
      ]
     },
     "execution_count": 4,
     "metadata": {},
     "output_type": "execute_result"
    }
   ],
   "source": [
    "palindrome('hello')"
   ]
  },
  {
   "cell_type": "code",
   "execution_count": 5,
   "id": "1ff621f7-f82f-4826-b3ec-fb62e33c1ddb",
   "metadata": {},
   "outputs": [
    {
     "data": {
      "text/plain": [
       "True"
      ]
     },
     "execution_count": 5,
     "metadata": {},
     "output_type": "execute_result"
    }
   ],
   "source": [
    "palindrome('saippuakivikauppias')"
   ]
  },
  {
   "cell_type": "markdown",
   "id": "ff818ada-e7e1-4eaa-88ab-4e6cd69ddb17",
   "metadata": {},
   "source": [
    "### Binary Search"
   ]
  },
  {
   "cell_type": "markdown",
   "id": "b0ff823a-1aae-4fb0-a948-fbbcd4949714",
   "metadata": {},
   "source": [
    "Probably won't be on test, but it's an actual example of where recursion works well - easier than an iterative solution with the same time complexity - $O(log(n))$.\n",
    "\n",
    "Search for key within an array (requires sorted array). Uses \"divide and conquer\".\n",
    "\n",
    "- Call function with sorted array, low (0) and high (length of the array - 1).\n",
    "- Check if the key is equal to the middle element.\n",
    "- If key matches element at the middle index, return the middle index.\n",
    "- If the element at the middle index is **greater** than the key, call the function again, with the high index = the middle index - 1, meaning we discard the high part of the array.\n",
    "- if the element at the middle index is **less** than the key, call the function again, with the low index = middle index + 1, meaning we discard the low part of the array.\n",
    "- We do this recursively until the index of the key is found, or return `'Not Found'` if it's not found in the array.\n",
    "- **Base case** - middle index = key\n",
    "- **Recursive case** - middle index greater or less than the key."
   ]
  },
  {
   "cell_type": "code",
   "execution_count": 29,
   "id": "6dc877bb-7c36-4ce3-9a0b-6ec4fc0d1daf",
   "metadata": {},
   "outputs": [],
   "source": [
    "def binary_search(array, low, high, key):\n",
    "    if high >= low:\n",
    "        middle = (high + low) // 2\n",
    "        if array[middle] == key:\n",
    "            return middle\n",
    "        elif array[middle] > key:\n",
    "            return binary_search(array, low, middle - 1, key)\n",
    "        else:\n",
    "            return binary_search(array, middle + 1, high, key)\n",
    "    else:\n",
    "        return 'Not found'"
   ]
  },
  {
   "cell_type": "code",
   "execution_count": 30,
   "id": "24fb68eb-dbf6-4118-94e0-eb9562a69e81",
   "metadata": {},
   "outputs": [
    {
     "data": {
      "text/plain": [
       "2"
      ]
     },
     "execution_count": 30,
     "metadata": {},
     "output_type": "execute_result"
    }
   ],
   "source": [
    "array = [1, 2, 3, 4, 5]\n",
    "key = 3\n",
    "binary_search(array, 0, len(array)- 1, key)"
   ]
  },
  {
   "cell_type": "code",
   "execution_count": 31,
   "id": "34a42130-19f0-41f3-a746-2be89aa39e44",
   "metadata": {},
   "outputs": [
    {
     "data": {
      "text/plain": [
       "'Not found'"
      ]
     },
     "execution_count": 31,
     "metadata": {},
     "output_type": "execute_result"
    }
   ],
   "source": [
    "array = [11, 23, 74, 123, 190, 203, 893, 1002]\n",
    "key = 0\n",
    "binary_search(array, 0, len(array)- 1, key)"
   ]
  },
  {
   "cell_type": "code",
   "execution_count": 32,
   "id": "51c29c1b-e6fc-46d3-b01f-37095efb59b4",
   "metadata": {},
   "outputs": [
    {
     "data": {
      "text/plain": [
       "3"
      ]
     },
     "execution_count": 32,
     "metadata": {},
     "output_type": "execute_result"
    }
   ],
   "source": [
    "array = [11, 23, 74, 123, 190, 203, 893, 1002]\n",
    "key = 123\n",
    "binary_search(array, 0, len(array)- 1, key)"
   ]
  }
 ],
 "metadata": {
  "kernelspec": {
   "display_name": "Python 3 (ipykernel)",
   "language": "python",
   "name": "python3"
  },
  "language_info": {
   "codemirror_mode": {
    "name": "ipython",
    "version": 3
   },
   "file_extension": ".py",
   "mimetype": "text/x-python",
   "name": "python",
   "nbconvert_exporter": "python",
   "pygments_lexer": "ipython3",
   "version": "3.12.1"
  }
 },
 "nbformat": 4,
 "nbformat_minor": 5
}
